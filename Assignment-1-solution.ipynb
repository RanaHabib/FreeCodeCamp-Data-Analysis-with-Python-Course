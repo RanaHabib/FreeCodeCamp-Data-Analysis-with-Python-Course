{
 "cells": [
  {
   "cell_type": "code",
   "execution_count": 1,
   "metadata": {},
   "outputs": [],
   "source": [
    "import numpy as np"
   ]
  },
  {
   "cell_type": "code",
   "execution_count": 2,
   "metadata": {},
   "outputs": [],
   "source": [
    "def calculate(list):    \n",
    "    if(len(list)!=9):\n",
    "        raise ValueError(\"List must contain nine numbers.\")\n",
    "    calculations = dict()\n",
    "    tempList = []\n",
    "    reshapedList = np.reshape(list, (3,3)).tolist()\n",
    "    functions = {'mean': np.mean, 'variance': np.var, 'standard deviation': np.std,\n",
    "                 'max': np.max, 'min': np.min, 'sum': np.sum}\n",
    "    for key in functions:\n",
    "        tempList.append(functions[key](reshapedList, axis = 0).tolist()) \n",
    "        tempList.append(functions[key](reshapedList, axis = 1).tolist())\n",
    "        tempList.append(functions[key](list).tolist())\n",
    "        calculations[key] = tempList\n",
    "        tempList = []\n",
    "\n",
    "    return calculations"
   ]
  },
  {
   "cell_type": "code",
   "execution_count": 3,
   "metadata": {},
   "outputs": [
    {
     "data": {
      "text/plain": [
       "{'mean': [[3.0, 4.0, 5.0], [1.0, 4.0, 7.0], 4.0],\n",
       " 'variance': [[6.0, 6.0, 6.0],\n",
       "  [0.6666666666666666, 0.6666666666666666, 0.6666666666666666],\n",
       "  6.666666666666667],\n",
       " 'standard deviation': [[2.449489742783178,\n",
       "   2.449489742783178,\n",
       "   2.449489742783178],\n",
       "  [0.816496580927726, 0.816496580927726, 0.816496580927726],\n",
       "  2.581988897471611],\n",
       " 'max': [[6, 7, 8], [2, 5, 8], 8],\n",
       " 'min': [[0, 1, 2], [0, 3, 6], 0],\n",
       " 'sum': [[9, 12, 15], [3, 12, 21], 36]}"
      ]
     },
     "execution_count": 3,
     "metadata": {},
     "output_type": "execute_result"
    }
   ],
   "source": [
    "calculate([0,1,2,\n",
    "           3,4,5,\n",
    "           6,7,8])"
   ]
  }
 ],
 "metadata": {
  "kernelspec": {
   "display_name": "Python 3",
   "language": "python",
   "name": "python3"
  },
  "language_info": {
   "codemirror_mode": {
    "name": "ipython",
    "version": 3
   },
   "file_extension": ".py",
   "mimetype": "text/x-python",
   "name": "python",
   "nbconvert_exporter": "python",
   "pygments_lexer": "ipython3",
   "version": "3.7.3"
  }
 },
 "nbformat": 4,
 "nbformat_minor": 4
}
